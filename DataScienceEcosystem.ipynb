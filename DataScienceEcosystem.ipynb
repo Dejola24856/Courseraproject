{
 "cells": [
  {
   "cell_type": "markdown",
   "id": "b37a31d0-3616-420c-bc77-d35abab4de60",
   "metadata": {},
   "source": [
    "<center>\n",
    "    <img src=\"https://cf-courses-data.s3.us.cloud-object-storage.appdomain.cloud/IBMDeveloperSkillsNetwork-DS0105EN-SkillsNetwork/labs/Module2/images/SN_web_lightmode.png\" width=\"300\" alt=\"cognitiveclass.ai logo\">\n",
    "</center>\n"
   ]
  },
  {
   "cell_type": "markdown",
   "id": "5ca2488b-3cdb-4557-87b4-42d78b436827",
   "metadata": {},
   "source": [
    "# Data Science Tools and Ecosystem\n",
    "## In this notebook, Data Science Tools and Ecosystem are summarized\n",
    "\n",
    "# **Objectives**\n",
    "- List popular languages for Data Science\n",
    "- List popular libraries for Data Science\n",
    "- List popular IDEs\n",
    "- Creating tables\n",
    "- Performing calculations\n",
    "\n",
    "### Some of the popular languages that Data Scientists use are:\n",
    "1. Python\n",
    "2. R \n",
    "3. SQL\n",
    "4. C++\n",
    "\n",
    "### Some of the commonly used libraries by Data Scientists include:\n",
    "1. Numpy\n",
    "2. Pandas \n",
    "3. Matplotlib\n",
    "4. Tensorflow\n",
    "5. PyTorch\n",
    "\n",
    "### Creating Table\n",
    "| Data Science Tool|\n",
    "| ----------------- |\n",
    "| Jupyter |\n",
    "| Spyder |\n",
    "| VS Code |\n",
    "\n",
    "\n",
    "### Below are a few examples of evaluating arithmetic expressions in Python\n"
   ]
  },
  {
   "cell_type": "code",
   "execution_count": 23,
   "id": "53854d22-b97e-4618-95eb-20d80a35867c",
   "metadata": {},
   "outputs": [
    {
     "data": {
      "text/plain": [
       "17"
      ]
     },
     "execution_count": 23,
     "metadata": {},
     "output_type": "execute_result"
    }
   ],
   "source": [
    "#This is a simple arithmetic expression to multiply then add integers\n",
    "(3*4)+5\n"
   ]
  },
  {
   "cell_type": "code",
   "execution_count": 21,
   "id": "9e756ec3-7317-414f-8641-766063f248cf",
   "metadata": {},
   "outputs": [
    {
     "data": {
      "text/plain": [
       "3.3333333333333335"
      ]
     },
     "execution_count": 21,
     "metadata": {},
     "output_type": "execute_result"
    }
   ],
   "source": [
    "#This will convert 200 minutes to hours by dividing by 60 \n",
    "200/60"
   ]
  },
  {
   "cell_type": "markdown",
   "id": "5a49ac03-fe25-426c-a176-9672db6d07fb",
   "metadata": {},
   "source": [
    "## Author \n",
    "Azeez Raheem Ayodeji\n"
   ]
  }
 ],
 "metadata": {
  "kernelspec": {
   "display_name": "Python 3 (ipykernel)",
   "language": "python",
   "name": "python3"
  },
  "language_info": {
   "codemirror_mode": {
    "name": "ipython",
    "version": 3
   },
   "file_extension": ".py",
   "mimetype": "text/x-python",
   "name": "python",
   "nbconvert_exporter": "python",
   "pygments_lexer": "ipython3",
   "version": "3.11.7"
  }
 },
 "nbformat": 4,
 "nbformat_minor": 5
}
